{
 "cells": [
  {
   "cell_type": "markdown",
   "metadata": {},
   "source": [
    "# Finger Recognition"
   ]
  },
  {
   "cell_type": "markdown",
   "metadata": {},
   "source": [
    "#We have a dataset of having four category images i.e. one-sample, two-samples, three-samples, four-samples."
   ]
  },
  {
   "cell_type": "markdown",
   "metadata": {},
   "source": [
    "#we have used OpenCV and Keras library for making model. Just you can give a image of finger and the model predict whether it is one, two, three or four. You can see model's accuracy is 98.639%"
   ]
  },
  {
   "cell_type": "code",
   "execution_count": null,
   "metadata": {},
   "outputs": [],
   "source": [
    "#Importing libraries"
   ]
  },
  {
   "cell_type": "code",
   "execution_count": 1,
   "metadata": {},
   "outputs": [],
   "source": [
    "import numpy as np\n",
    "import pandas as pd\n",
    "import cv2\n",
    "import matplotlib.pyplot as plt\n",
    "import os"
   ]
  },
  {
   "cell_type": "code",
   "execution_count": 9,
   "metadata": {},
   "outputs": [],
   "source": [
    "os.chdir(r'E:\\Data Science Projects')"
   ]
  },
  {
   "cell_type": "code",
   "execution_count": 10,
   "metadata": {},
   "outputs": [
    {
     "name": "stdout",
     "output_type": "stream",
     "text": [
      " Volume in drive E has no label.\n",
      " Volume Serial Number is 0C92-5301\n",
      "\n",
      " Directory of E:\\Data Science Projects\n",
      "\n",
      "07/13/2020  07:59 AM    <DIR>          .\n",
      "07/13/2020  07:59 AM    <DIR>          ..\n",
      "03/26/2020  04:38 PM    <DIR>          Adult\n",
      "12/21/2019  08:37 PM    <DIR>          AQI\n",
      "06/28/2020  04:33 PM    <DIR>          Bank-Note-Authentication\n",
      "11/07/2019  06:59 AM    <DIR>          Breast Cancer\n",
      "07/03/2020  09:03 AM    <DIR>          Car Brand Classification\n",
      "06/07/2020  05:25 PM    <DIR>          Car Pricing EDA\n",
      "07/01/2020  12:12 AM    <DIR>          Car Pricing Prediction\n",
      "12/22/2019  06:22 PM    <DIR>          Deployments\n",
      "01/01/2019  08:47 PM    <DIR>          dev\n",
      "07/06/2020  11:38 PM    <DIR>          Diabetics prediction\n",
      "11/24/2019  05:28 PM    <DIR>          Digit Recognizer\n",
      "11/02/2019  06:36 PM    <DIR>          Disease_Detection\n",
      "11/02/2019  06:36 PM    <DIR>          Fakenews\n",
      "07/13/2020  07:59 AM    <DIR>          finger print classification\n",
      "07/06/2020  07:47 AM    <DIR>          Flight-Fare-Prediction\n",
      "01/15/2020  08:37 PM    <DIR>          fruit 360\n",
      "06/28/2020  10:38 AM    <DIR>          Gender submision\n",
      "11/26/2019  08:14 AM    <DIR>          Heart Disease Analysis\n",
      "11/23/2019  09:34 PM    <DIR>          HousePriceData\n",
      "07/05/2020  10:23 PM    <DIR>          Image Classification Cat Vs Dog\n",
      "01/15/2020  03:48 PM    <DIR>          ImageWebScrapping\n",
      "07/04/2020  09:34 PM    <DIR>          IPL-First-Innings-Score-Prediction\n",
      "11/07/2019  07:03 AM     1,098,401,407 kido-master.zip.part\n",
      "07/11/2020  05:58 PM    <DIR>          Malaria Detection\n",
      "01/19/2020  07:53 AM    <DIR>          Melbourne House prediction\n",
      "07/06/2020  10:29 PM    <DIR>          Movie recommendation\n",
      "04/01/2020  10:08 AM    <DIR>          Neural networks\n",
      "07/04/2020  09:11 PM    <DIR>          NLP\n",
      "02/22/2020  11:01 AM    <DIR>          oil-spill\n",
      "03/24/2020  11:25 PM    <DIR>          Regression\n",
      "03/28/2020  09:50 PM    <DIR>          Sales Prediction\n",
      "03/25/2020  02:51 PM    <DIR>          Sentimental Analysis\n",
      "03/30/2020  05:29 PM    <DIR>          Spam Collection\n",
      "11/02/2019  07:07 PM    <DIR>          Speech-emotion-recognition\n",
      "07/02/2020  07:51 PM    <DIR>          Stock Sentiment Analysis\n",
      "03/28/2020  03:51 PM    <DIR>          Superstore Prediction\n",
      "09/21/2019  02:06 AM         7,579,795 ted_main.csv\n",
      "11/18/2019  07:26 AM        12,603,111 ted-talks.zip\n",
      "05/20/2020  07:05 AM    <DIR>          Text Classification\n",
      "04/05/2020  12:17 PM    <DIR>          Titanic Dataset\n",
      "09/21/2019  02:06 AM        28,526,129 transcripts.csv\n",
      "03/27/2020  06:22 PM    <DIR>          VAR-Timeseries\n",
      "               4 File(s)  1,147,110,442 bytes\n",
      "              40 Dir(s)  221,295,136,768 bytes free\n"
     ]
    }
   ],
   "source": [
    "ls"
   ]
  },
  {
   "cell_type": "code",
   "execution_count": null,
   "metadata": {},
   "outputs": [],
   "source": [
    "#Here is the data directory path and in that there are four sub-directories:\n",
    "\n",
    "#    1.One-sample\n",
    "#    2.Two-sample\n",
    "#    3.Three-sample\n",
    "#    4.Four-sample"
   ]
  },
  {
   "cell_type": "code",
   "execution_count": 11,
   "metadata": {},
   "outputs": [],
   "source": [
    "Data_dir = 'finger print classification\\samples_of_fingers'\n",
    "categories = [\"one-samples\", \"two-samples\", \"Three-samples\", \"Four-samples\"]"
   ]
  },
  {
   "cell_type": "code",
   "execution_count": 12,
   "metadata": {},
   "outputs": [
    {
     "data": {
      "text/plain": [
       "'finger print classification\\\\samples_of_fingers'"
      ]
     },
     "execution_count": 12,
     "metadata": {},
     "output_type": "execute_result"
    }
   ],
   "source": [
    "Data_dir"
   ]
  },
  {
   "cell_type": "code",
   "execution_count": null,
   "metadata": {},
   "outputs": [],
   "source": [
    "#First we need to read only one image and display this image as Gray Scale"
   ]
  },
  {
   "cell_type": "code",
   "execution_count": 13,
   "metadata": {},
   "outputs": [
    {
     "data": {
      "image/png": "[encoded data removed]",
      "text/plain": [
       "<Figure size 432x288 with 1 Axes>"
      ]
     },
     "metadata": {
      "needs_background": "light"
     },
     "output_type": "display_data"
    }
   ],
   "source": [
    "for category in categories:\n",
    "    path=os.path.join(Data_dir,category)\n",
    "    for img in os.listdir(path):\n",
    "        img_array=cv2.imread(os.path.join(path,img),cv2.IMREAD_GRAYSCALE)\n",
    "        plt.imshow(img_array,cmap=\"gray\")\n",
    "        break\n",
    "    break    "
   ]
  },
  {
   "cell_type": "code",
   "execution_count": 14,
   "metadata": {},
   "outputs": [
    {
     "data": {
      "text/plain": [
       "array([[170, 170, 170, ..., 176, 177, 176],\n",
       "       [171, 171, 171, ..., 174, 175, 176],\n",
       "       [172, 171, 172, ..., 174, 175, 175],\n",
       "       ...,\n",
       "       [ 82,  81,  82, ..., 155, 155, 154],\n",
       "       [ 80,  79,  80, ..., 156, 154, 151],\n",
       "       [ 78,  77,  78, ..., 156, 156, 155]], dtype=uint8)"
      ]
     },
     "execution_count": 14,
     "metadata": {},
     "output_type": "execute_result"
    }
   ],
   "source": [
    "img_array"
   ]
  },
  {
   "cell_type": "code",
   "execution_count": 15,
   "metadata": {},
   "outputs": [
    {
     "data": {
      "text/plain": [
       "(224, 224)"
      ]
     },
     "execution_count": 15,
     "metadata": {},
     "output_type": "execute_result"
    }
   ],
   "source": [
    "img_array.shape"
   ]
  },
  {
   "cell_type": "code",
   "execution_count": 16,
   "metadata": {},
   "outputs": [],
   "source": [
    "#Now for all images we fixed the size of image is 50\n",
    "img_size=50"
   ]
  },
  {
   "cell_type": "code",
   "execution_count": 17,
   "metadata": {},
   "outputs": [],
   "source": [
    "new_array=cv2.resize(img_array,(img_size,img_size))#resizing the Image to 50"
   ]
  },
  {
   "cell_type": "code",
   "execution_count": 18,
   "metadata": {},
   "outputs": [
    {
     "data": {
      "text/plain": [
       "<matplotlib.image.AxesImage at 0x1daa7a10348>"
      ]
     },
     "execution_count": 18,
     "metadata": {},
     "output_type": "execute_result"
    },
    {
     "data": {
      "image/png": "[encoded data removed]",
      "text/plain": [
       "<Figure size 432x288 with 1 Axes>"
      ]
     },
     "metadata": {
      "needs_background": "light"
     },
     "output_type": "display_data"
    }
   ],
   "source": [
    "plt.imshow(new_array,cmap='gray')"
   ]
  },
  {
   "cell_type": "code",
   "execution_count": 19,
   "metadata": {},
   "outputs": [],
   "source": [
    "#Now, all fine we look forward to all categories and convert images into its corresponding array\n",
    "#Let's initializes a array which contains all the array of images in all the categories. I have made a function of loading data ."
   ]
  },
  {
   "cell_type": "code",
   "execution_count": 20,
   "metadata": {},
   "outputs": [],
   "source": [
    "training_data=[]\n",
    "def load_data():\n",
    "    for category in categories:\n",
    "        path=os.path.join(Data_dir,category)\n",
    "        num_class=categories.index(category)\n",
    "        for img in os.listdir(path):\n",
    "            try:\n",
    "                img_array=cv2.imread(os.path.join(path,img),cv2.IMREAD_GRAYSCALE)\n",
    "                new_array=cv2.resize(img_array,(img_size,img_size))\n",
    "                training_data.append([new_array,num_class])\n",
    "            except Exception as e:\n",
    "                pass"
   ]
  },
  {
   "cell_type": "code",
   "execution_count": 21,
   "metadata": {},
   "outputs": [],
   "source": [
    "load_data()"
   ]
  },
  {
   "cell_type": "code",
   "execution_count": 22,
   "metadata": {},
   "outputs": [
    {
     "name": "stdout",
     "output_type": "stream",
     "text": [
      "[[array([[171, 174, 174, ..., 174, 175, 174],\n",
      "       [174, 174, 175, ..., 179, 177, 177],\n",
      "       [175, 175, 172, ..., 179, 180, 180],\n",
      "       ...,\n",
      "       [ 95, 103, 110, ..., 147, 149, 149],\n",
      "       [ 90,  97, 106, ...,  93,  85,  77],\n",
      "       [ 81,  89, 102, ..., 153, 154, 155]], dtype=uint8), 0], [array([[172, 173, 174, ..., 175, 175, 177],\n",
      "       [172, 174, 175, ..., 178, 177, 178],\n",
      "       [175, 175, 174, ..., 179, 179, 179],\n",
      "       ...,\n",
      "       [ 94, 102, 111, ..., 146, 148, 148],\n",
      "       [ 90,  98, 106, ..., 103,  92,  76],\n",
      "       [ 84,  92, 101, ..., 154, 154, 154]], dtype=uint8), 0], [array([[173, 172, 172, ..., 175, 174, 173],\n",
      "       [172, 175, 174, ..., 178, 179, 176],\n",
      "       [174, 176, 174, ..., 179, 179, 179],\n",
      "       ...,\n",
      "       [ 93, 101, 109, ..., 148, 146, 148],\n",
      "       [ 89,  98, 106, ...,  92,  82,  78],\n",
      "       [ 82,  92,  98, ..., 152, 155, 155]], dtype=uint8), 0], [array([[171, 173, 173, ..., 176, 177, 177],\n",
      "       [172, 174, 172, ..., 177, 178, 178],\n",
      "       [175, 176, 173, ..., 178, 179, 178],\n",
      "       ...,\n",
      "       [ 99, 108, 113, ...,  96, 115, 127],\n",
      "       [ 93, 102, 108, ..., 154, 153, 155],\n",
      "       [ 91,  96, 104, ..., 155, 154, 155]], dtype=uint8), 0], [array([[172, 174, 174, ..., 176, 176, 178],\n",
      "       [174, 176, 174, ..., 177, 177, 178],\n",
      "       [174, 174, 175, ..., 178, 179, 179],\n",
      "       ...,\n",
      "       [101, 106, 114, ..., 102, 119, 129],\n",
      "       [ 95, 100, 106, ..., 153, 154, 154],\n",
      "       [ 91,  97, 105, ..., 154, 155, 155]], dtype=uint8), 0], [array([[171, 174, 174, ..., 175, 177, 177],\n",
      "       [172, 173, 172, ..., 177, 178, 178],\n",
      "       [174, 176, 174, ..., 179, 180, 179],\n",
      "       ...,\n",
      "       [100, 107, 115, ...,  81,  96, 116],\n",
      "       [ 96, 101, 109, ..., 153, 155, 155],\n",
      "       [ 94,  99, 107, ..., 154, 154, 155]], dtype=uint8), 0], [array([[171, 171, 172, ..., 176, 176, 177],\n",
      "       [172, 174, 173, ..., 177, 179, 179],\n",
      "       [174, 176, 174, ..., 180, 180, 179],\n",
      "       ...,\n",
      "       [101, 108, 116, ...,  72,  84, 102],\n",
      "       [ 95, 106, 112, ..., 154, 156, 154],\n",
      "       [ 94, 102, 104, ..., 153, 156, 154]], dtype=uint8), 0], [array([[171, 171, 171, ..., 175, 176, 176],\n",
      "       [173, 174, 174, ..., 179, 178, 180],\n",
      "       [173, 175, 175, ..., 179, 178, 179],\n",
      "       ...,\n",
      "       [102, 111, 118, ...,  77,  84, 101],\n",
      "       [ 99, 106, 112, ..., 155, 156, 154],\n",
      "       [ 97, 101, 100, ..., 154, 155, 155]], dtype=uint8), 0], [array([[171, 171, 172, ..., 175, 176, 177],\n",
      "       [173, 174, 174, ..., 180, 178, 179],\n",
      "       [172, 174, 173, ..., 180, 179, 180],\n",
      "       ...,\n",
      "       [107, 111, 121, ...,  73,  86,  98],\n",
      "       [104, 109, 118, ..., 154, 154, 155],\n",
      "       [ 98,  99, 107, ..., 156, 155, 155]], dtype=uint8), 0], [array([[171, 172, 173, ..., 177, 178, 176],\n",
      "       [173, 175, 175, ..., 178, 178, 180],\n",
      "       [174, 175, 174, ..., 179, 181, 180],\n",
      "       ...,\n",
      "       [107, 114, 122, ...,  78,  78,  86],\n",
      "       [101, 109, 117, ..., 154, 156, 154],\n",
      "       [ 98, 101, 110, ..., 153, 155, 154]], dtype=uint8), 0]]\n"
     ]
    }
   ],
   "source": [
    "print(training_data[:10])"
   ]
  },
  {
   "cell_type": "code",
   "execution_count": 23,
   "metadata": {},
   "outputs": [
    {
     "name": "stdout",
     "output_type": "stream",
     "text": [
      "1984\n"
     ]
    }
   ],
   "source": [
    "print(len(training_data))"
   ]
  },
  {
   "cell_type": "code",
   "execution_count": null,
   "metadata": {},
   "outputs": [],
   "source": [
    "#In this dataset, we have four categories and these categories are in a series i.e. first we have four sample images then all the images are of four. So, we shuffle the data by using random.shuffle"
   ]
  },
  {
   "cell_type": "code",
   "execution_count": 24,
   "metadata": {},
   "outputs": [],
   "source": [
    "import random\n",
    "random.shuffle(training_data)"
   ]
  },
  {
   "cell_type": "code",
   "execution_count": 25,
   "metadata": {},
   "outputs": [
    {
     "name": "stdout",
     "output_type": "stream",
     "text": [
      "[[array([[169, 173, 172, ..., 181, 183, 181],\n",
      "       [173, 174, 173, ..., 185, 187, 187],\n",
      "       [174, 174, 174, ..., 186, 188, 188],\n",
      "       ...,\n",
      "       [ 69,  76,  58, ..., 143, 112,  82],\n",
      "       [ 64,  51,  46, ..., 159, 152,  73],\n",
      "       [ 50,  37,  38, ..., 161, 161, 120]], dtype=uint8), 0], [array([[181, 182, 185, ..., 195, 196, 196],\n",
      "       [187, 184, 186, ..., 197, 198, 199],\n",
      "       [187, 186, 187, ..., 202, 200, 202],\n",
      "       ...,\n",
      "       [ 44,  42,  45, ..., 105, 142, 137],\n",
      "       [ 40,  40,  40, ..., 173, 166,  72],\n",
      "       [ 34,  33,  36, ..., 174, 172,  85]], dtype=uint8), 0], [array([[179, 178, 179, ..., 175, 173, 176],\n",
      "       [179, 179, 181, ..., 178, 176, 177],\n",
      "       [180, 180, 181, ..., 178, 177, 178],\n",
      "       ...,\n",
      "       [ 88,  98, 105, ...,  57, 154, 155],\n",
      "       [ 73,  87, 101, ...,  70, 155, 156],\n",
      "       [ 78,  85,  90, ..., 107, 155, 154]], dtype=uint8), 2], [array([[203, 201, 200, ..., 223, 224, 222],\n",
      "       [195, 204, 202, ..., 237, 239, 224],\n",
      "       [173, 202, 203, ..., 242, 241, 232],\n",
      "       ...,\n",
      "       [ 73,  79,  79, ...,  51,  44,  43],\n",
      "       [ 73,  78,  81, ...,  47,  46,  42],\n",
      "       [ 75,  74,  74, ...,  45,  40,  43]], dtype=uint8), 3], [array([[205, 203, 200, ..., 225, 224, 222],\n",
      "       [197, 202, 201, ..., 240, 240, 234],\n",
      "       [174, 198, 204, ..., 244, 244, 237],\n",
      "       ...,\n",
      "       [ 83,  82,  72, ...,  48,  45,  42],\n",
      "       [ 82,  76,  65, ...,  44,  46,  44],\n",
      "       [ 86,  72,  62, ...,  41,  40,  41]], dtype=uint8), 3], [array([[184, 185, 186, ..., 170, 169, 170],\n",
      "       [185, 186, 185, ..., 172, 174, 173],\n",
      "       [185, 184, 186, ..., 174, 175, 177],\n",
      "       ...,\n",
      "       [113, 113, 107, ..., 153, 153, 137],\n",
      "       [127, 115, 107, ..., 156, 157, 155],\n",
      "       [124, 123, 107, ..., 156, 156, 156]], dtype=uint8), 3], [array([[177, 177, 178, ..., 162, 163, 162],\n",
      "       [177, 178, 179, ..., 163, 166, 164],\n",
      "       [178, 178, 179, ..., 167, 167, 167],\n",
      "       ...,\n",
      "       [110, 119,  97, ..., 107,  77,  75],\n",
      "       [114,  90, 109, ..., 147, 149, 146],\n",
      "       [122, 115,  94, ..., 148, 149, 151]], dtype=uint8), 3], [array([[170, 170, 170, ..., 169, 170, 165],\n",
      "       [171, 172, 170, ..., 170, 165, 151],\n",
      "       [172, 172, 171, ..., 170, 143, 161],\n",
      "       ...,\n",
      "       [ 90, 104, 108, ..., 150, 150, 150],\n",
      "       [ 84,  99, 102, ..., 148, 152, 152],\n",
      "       [ 82,  92,  95, ..., 151, 152, 151]], dtype=uint8), 2], [array([[179, 180, 180, ..., 177, 177, 177],\n",
      "       [177, 181, 182, ..., 178, 179, 177],\n",
      "       [181, 180, 180, ..., 179, 177, 175],\n",
      "       ...,\n",
      "       [ 93,  99, 108, ...,  64, 156, 155],\n",
      "       [ 85,  96, 102, ..., 100, 157, 158],\n",
      "       [ 81,  89,  91, ..., 152, 155, 156]], dtype=uint8), 2], [array([[171, 171, 172, ..., 163, 164, 166],\n",
      "       [171, 172, 175, ..., 164, 166, 166],\n",
      "       [172, 174, 174, ..., 166, 165, 166],\n",
      "       ...,\n",
      "       [ 87,  65,  74, ..., 146, 146, 146],\n",
      "       [ 71,  55,  74, ..., 148, 149, 149],\n",
      "       [ 42,  54,  73, ..., 146, 147, 148]], dtype=uint8), 1]]\n"
     ]
    }
   ],
   "source": [
    "print(training_data[:10])"
   ]
  },
  {
   "cell_type": "code",
   "execution_count": 26,
   "metadata": {},
   "outputs": [
    {
     "name": "stdout",
     "output_type": "stream",
     "text": [
      "0\n",
      "0\n",
      "2\n",
      "3\n",
      "3\n",
      "3\n",
      "3\n",
      "2\n",
      "2\n",
      "1\n"
     ]
    }
   ],
   "source": [
    "for labels in training_data[:10]:\n",
    "    print(labels[1])"
   ]
  },
  {
   "cell_type": "code",
   "execution_count": 27,
   "metadata": {},
   "outputs": [],
   "source": [
    "#Assign the data to X and labels to y arrays.\n",
    "X=[]\n",
    "y=[]\n",
    "for features,labels in training_data:\n",
    "    X.append(features)\n",
    "    y.append(labels)"
   ]
  },
  {
   "cell_type": "code",
   "execution_count": 28,
   "metadata": {},
   "outputs": [],
   "source": [
    "#We reshape the array X into the image shape i.e. (no_of_training_examples, image_size, image_size, 1). 1 is for gray scale and if you want to read all images in coloured you can use 3 instead of 1 in the reshape function."
   ]
  },
  {
   "cell_type": "code",
   "execution_count": 29,
   "metadata": {},
   "outputs": [],
   "source": [
    "X=np.array(X).reshape(-1,img_size,img_size,1)"
   ]
  },
  {
   "cell_type": "code",
   "execution_count": 30,
   "metadata": {},
   "outputs": [
    {
     "data": {
      "text/plain": [
       "(1984, 50, 50, 1)"
      ]
     },
     "execution_count": 30,
     "metadata": {},
     "output_type": "execute_result"
    }
   ],
   "source": [
    "X.shape"
   ]
  },
  {
   "cell_type": "code",
   "execution_count": 31,
   "metadata": {},
   "outputs": [],
   "source": [
    "#Here we start making model using keras\n",
    "import keras"
   ]
  },
  {
   "cell_type": "code",
   "execution_count": null,
   "metadata": {},
   "outputs": [],
   "source": [
    "#In keras library, there is a fuction to_categorical which do the one hot encoding."
   ]
  },
  {
   "cell_type": "code",
   "execution_count": 32,
   "metadata": {},
   "outputs": [],
   "source": [
    "y=keras.utils.to_categorical(y,num_classes=4)"
   ]
  },
  {
   "cell_type": "code",
   "execution_count": 33,
   "metadata": {},
   "outputs": [],
   "source": [
    "#And add on the layers in the keras model and compile the model"
   ]
  },
  {
   "cell_type": "code",
   "execution_count": 36,
   "metadata": {},
   "outputs": [],
   "source": [
    "model=keras.Sequential([\n",
    "    keras.layers.Conv2D(256,(3,3),strides=(1,1),padding=\"valid\",input_shape=(50,50,1)),\n",
    "    keras.layers.MaxPooling2D(2,2),\n",
    "    \n",
    "    keras.layers.Conv2D(128,(3,3),strides=(1,1),padding=\"valid\"),\n",
    "    keras.layers.MaxPooling2D(2,2),\n",
    "    \n",
    "    keras.layers.Conv2D(64,(3,3),strides=(1,1),padding=\"valid\"),\n",
    "    keras.layers.MaxPooling2D(2,2),\n",
    "    \n",
    "    keras.layers.Flatten(),\n",
    "    keras.layers.Dense(64,activation=\"relu\"),\n",
    "    keras.layers.Dense(4,activation=\"softmax\")\n",
    "])"
   ]
  },
  {
   "cell_type": "code",
   "execution_count": 37,
   "metadata": {},
   "outputs": [],
   "source": [
    "model.compile(optimizer=\"Adam\",loss=\"categorical_crossentropy\",metrics=[\"accuracy\"])"
   ]
  },
  {
   "cell_type": "code",
   "execution_count": null,
   "metadata": {},
   "outputs": [],
   "source": [
    "#Let's start the training part of our model"
   ]
  },
  {
   "cell_type": "code",
   "execution_count": 38,
   "metadata": {},
   "outputs": [
    {
     "name": "stdout",
     "output_type": "stream",
     "text": [
      "Epoch 1/5\n",
      "62/62 [==============================] - 46s 739ms/step - loss: 31.4020 - accuracy: 0.3347\n",
      "Epoch 2/5\n",
      "62/62 [==============================] - 46s 745ms/step - loss: 0.6561 - accuracy: 0.7530\n",
      "Epoch 3/5\n",
      "62/62 [==============================] - 46s 749ms/step - loss: 0.3901 - accuracy: 0.8750\n",
      "Epoch 4/5\n",
      "62/62 [==============================] - 46s 745ms/step - loss: 0.2322 - accuracy: 0.9415\n",
      "Epoch 5/5\n",
      "62/62 [==============================] - 45s 731ms/step - loss: 0.1660 - accuracy: 0.9612\n"
     ]
    },
    {
     "data": {
      "text/plain": [
       "<tensorflow.python.keras.callbacks.History at 0x1dab572ea48>"
      ]
     },
     "execution_count": 38,
     "metadata": {},
     "output_type": "execute_result"
    }
   ],
   "source": [
    "model.fit(X,y,epochs=5)"
   ]
  },
  {
   "cell_type": "code",
   "execution_count": 39,
   "metadata": {},
   "outputs": [],
   "source": [
    "y_pred=model.predict(X)"
   ]
  },
  {
   "cell_type": "code",
   "execution_count": 40,
   "metadata": {},
   "outputs": [
    {
     "data": {
      "text/plain": [
       "array([[9.6789181e-01, 2.0617463e-03, 1.8202713e-02, 1.1843701e-02],\n",
       "       [9.7742999e-01, 3.7484817e-04, 2.0808551e-02, 1.3866349e-03],\n",
       "       [1.6230583e-03, 5.8402706e-02, 9.1570103e-01, 2.4273122e-02],\n",
       "       ...,\n",
       "       [9.9780494e-01, 2.3463266e-05, 2.1562874e-03, 1.5354048e-05],\n",
       "       [4.1771505e-02, 2.5495615e-02, 9.2936468e-01, 3.3682154e-03],\n",
       "       [1.5876129e-02, 3.3957228e-02, 9.2161620e-01, 2.8550426e-02]],\n",
       "      dtype=float32)"
      ]
     },
     "execution_count": 40,
     "metadata": {},
     "output_type": "execute_result"
    }
   ],
   "source": [
    "y_pred"
   ]
  },
  {
   "cell_type": "code",
   "execution_count": 41,
   "metadata": {},
   "outputs": [
    {
     "data": {
      "text/plain": [
       "(1984, 4)"
      ]
     },
     "execution_count": 41,
     "metadata": {},
     "output_type": "execute_result"
    }
   ],
   "source": [
    "y_pred.shape"
   ]
  },
  {
   "cell_type": "code",
   "execution_count": 42,
   "metadata": {},
   "outputs": [],
   "source": [
    "#In predictions array there are some predction scores. Let's make a threshold value."
   ]
  },
  {
   "cell_type": "code",
   "execution_count": 43,
   "metadata": {},
   "outputs": [],
   "source": [
    "for i in range(len(y_pred)):\n",
    "    for j in range(4):\n",
    "        if y_pred[i][j]>=0.50:\n",
    "            y_pred[i][j]=1\n",
    "        else:\n",
    "            y_pred[i][j]=0"
   ]
  },
  {
   "cell_type": "code",
   "execution_count": 44,
   "metadata": {},
   "outputs": [
    {
     "data": {
      "text/plain": [
       "array([[1., 0., 0., 0.],\n",
       "       [1., 0., 0., 0.],\n",
       "       [0., 0., 1., 0.],\n",
       "       ...,\n",
       "       [1., 0., 0., 0.],\n",
       "       [0., 0., 1., 0.],\n",
       "       [0., 0., 1., 0.]], dtype=float32)"
      ]
     },
     "execution_count": 44,
     "metadata": {},
     "output_type": "execute_result"
    }
   ],
   "source": [
    "y_pred"
   ]
  },
  {
   "cell_type": "code",
   "execution_count": 45,
   "metadata": {},
   "outputs": [
    {
     "name": "stdout",
     "output_type": "stream",
     "text": [
      "62/62 [==============================] - 13s 203ms/step - loss: 0.1349 - accuracy: 0.9803\n",
      "Loss : 0.13487304747104645\n",
      "Accuracy : 0.9803427457809448\n"
     ]
    }
   ],
   "source": [
    "loss,acc=model.evaluate(X,y)\n",
    "print(\"Loss :\",loss)\n",
    "print(\"Accuracy :\",acc)"
   ]
  },
  {
   "cell_type": "code",
   "execution_count": 46,
   "metadata": {},
   "outputs": [],
   "source": [
    "#Test the images on our model and see it is correct or not."
   ]
  },
  {
   "cell_type": "code",
   "execution_count": 47,
   "metadata": {},
   "outputs": [],
   "source": [
    "img='finger print classification\\samples_of_fingers\\Four-samples/101.jpg'"
   ]
  },
  {
   "cell_type": "code",
   "execution_count": 48,
   "metadata": {},
   "outputs": [
    {
     "data": {
      "image/png": "[encoded data removed]",
      "text/plain": [
       "<Figure size 432x288 with 1 Axes>"
      ]
     },
     "metadata": {
      "needs_background": "light"
     },
     "output_type": "display_data"
    }
   ],
   "source": [
    "img_array_1=cv2.imread(img,cv2.IMREAD_GRAYSCALE)\n",
    "img_array_1=cv2.resize(img_array_1,(50,50))\n",
    "plt.imshow(img_array_1,cmap=\"gray\")\n",
    "plt.show()\n",
    "img_array_1=np.array(img_array_1).reshape(-1,img_size,img_size,1)"
   ]
  },
  {
   "cell_type": "code",
   "execution_count": 49,
   "metadata": {},
   "outputs": [],
   "source": [
    "y_pred_1=model.predict(img_array_1)"
   ]
  },
  {
   "cell_type": "code",
   "execution_count": 50,
   "metadata": {},
   "outputs": [
    {
     "data": {
      "text/plain": [
       "array([[1.1811176e-07, 1.0581329e-06, 6.6673892e-05, 9.9993217e-01]],\n",
       "      dtype=float32)"
      ]
     },
     "execution_count": 50,
     "metadata": {},
     "output_type": "execute_result"
    }
   ],
   "source": [
    "y_pred_1"
   ]
  },
  {
   "cell_type": "code",
   "execution_count": 51,
   "metadata": {},
   "outputs": [],
   "source": [
    "for i in range(len(y_pred_1)):\n",
    "    for j in range(4):\n",
    "        if y_pred_1[i][j]>=0.50:\n",
    "            y_pred_1[i][j]=1\n",
    "        else:\n",
    "            y_pred_1[i][j]=0"
   ]
  },
  {
   "cell_type": "code",
   "execution_count": 52,
   "metadata": {},
   "outputs": [
    {
     "name": "stdout",
     "output_type": "stream",
     "text": [
      "This is  4\n"
     ]
    }
   ],
   "source": [
    "for i in range(len(y_pred_1)):\n",
    "    for j in range(4):\n",
    "        if y_pred_1[i][j]==1:\n",
    "            print(\"This is \",j+1)"
   ]
  },
  {
   "cell_type": "code",
   "execution_count": null,
   "metadata": {},
   "outputs": [],
   "source": []
  }
 ],
 "metadata": {
  "kernelspec": {
   "display_name": "Python 3",
   "language": "python",
   "name": "python3"
  },
  "language_info": {
   "codemirror_mode": {
    "name": "ipython",
    "version": 3
   },
   "file_extension": ".py",
   "mimetype": "text/x-python",
   "name": "python",
   "nbconvert_exporter": "python",
   "pygments_lexer": "ipython3",
   "version": "3.7.4"
  }
 },
 "nbformat": 4,
 "nbformat_minor": 2
}
